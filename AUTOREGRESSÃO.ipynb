{
  "nbformat": 4,
  "nbformat_minor": 0,
  "metadata": {
    "colab": {
      "provenance": []
    },
    "kernelspec": {
      "name": "python3",
      "display_name": "Python 3"
    },
    "language_info": {
      "name": "python"
    }
  },
  "cells": [
    {
      "cell_type": "markdown",
      "source": [
        "# Análise de Variáveis para Previsão do PIB com Modelos Autoregressivos"
      ],
      "metadata": {
        "id": "-YNwuLBvM8pR"
      }
    },
    {
      "cell_type": "markdown",
      "source": [
        "**Objetivo:**\n",
        "\n",
        "Nosso objetivo é prever o Produto Interno Bruto (PIB) utilizando modelos de regressão linear. Em particular, exploramos um modelo autoregressivo, onde utilizamos os próprios valores passados do PIB (defasagens, ou lags) como variáveis explicativas."
      ],
      "metadata": {
        "id": "ML3toy2jNC7I"
      }
    },
    {
      "cell_type": "markdown",
      "source": [
        "**Metodologia:**\n",
        "\n",
        "Carregamos um conjunto de dados contendo informações sobre o PIB e outras variáveis econômicas. Para avaliar a relação do PIB com seus valores passados, criamos defasagens temporais (lags), ou seja, colunas que representam o PIB de meses anteriores (PIBi1, PIBi2, ..., PIBi11)."
      ],
      "metadata": {
        "id": "xzIOrqXJNUT3"
      }
    },
    {
      "cell_type": "markdown",
      "source": [
        "**Avaliação:**\n",
        "\n",
        "Para avaliar a qualidade da previsão, utilizamos o Erro Quadrático Médio (MSE - Mean Squared Error), que mede a diferença entre os valores previstos e os valores reais do PIB. Quanto menor o MSE, melhor o modelo."
      ],
      "metadata": {
        "id": "ARDC2yaQNceA"
      }
    },
    {
      "cell_type": "code",
      "source": [
        "import pandas as pd\n",
        "from sklearn.linear_model import LinearRegression\n",
        "# biblioteca com métricas de erro de previsão. Escolhemos a mse\n",
        "from sklearn.metrics import mean_squared_error\n",
        "import numpy as np\n",
        "import itertools"
      ],
      "metadata": {
        "id": "JShCXg3vII9V"
      },
      "execution_count": 15,
      "outputs": []
    },
    {
      "cell_type": "code",
      "source": [
        "# Carga de dados\n",
        "df = pd.read_csv(\"https://raw.githubusercontent.com/diogenesjusto/FIAP/master/SHIFT/Data/pib.csv\")"
      ],
      "metadata": {
        "id": "RYHNmEHOILRL"
      },
      "execution_count": 2,
      "outputs": []
    },
    {
      "cell_type": "code",
      "source": [
        "df.columns"
      ],
      "metadata": {
        "colab": {
          "base_uri": "https://localhost:8080/"
        },
        "id": "Sm18ZBsWI9_s",
        "outputId": "24592091-9b50-495e-dd14-9654c3ed021c"
      },
      "execution_count": 7,
      "outputs": [
        {
          "output_type": "execute_result",
          "data": {
            "text/plain": [
              "Index(['Unnamed: 0', 'ANO_MES', 'PIB', 'BRL', 'BRP', 'BRT', 'SLP', 'SPP',\n",
              "       'SPT', 'PRL', 'PRP', 'PRT', 'RJL', 'RJP', 'RJT', 'D1', 'D2', 'D3', 'D4',\n",
              "       'D5', 'D6', 'D7', 'D8', 'D9', 'D10', 'D11', 'PIBi1', 'PIBi2', 'PIBi3',\n",
              "       'PIBi4', 'PIBi5', 'PIBi6', 'PIBi7', 'PIBi8', 'PIBi9', 'PIBi10',\n",
              "       'PIBi11', 'PIBi12'],\n",
              "      dtype='object')"
            ]
          },
          "metadata": {},
          "execution_count": 7
        }
      ]
    },
    {
      "cell_type": "code",
      "source": [
        "# Separação de treino e teste\n",
        "treino = df.iloc[0:126]\n",
        "teste = df.iloc[126:138]"
      ],
      "metadata": {
        "id": "_4gAbH6mIOAm"
      },
      "execution_count": 3,
      "outputs": []
    },
    {
      "cell_type": "code",
      "source": [
        "resultados = {}\n",
        "\n",
        "# Regressão\n",
        "Y_treino = treino.iloc[:, [2]]  # PIB\n",
        "\n",
        "# Loop para testar cada variável de índice 26 a 36\n",
        "for i in range(26, 37):\n",
        "    X = [df.columns[i]]  # Seleciona a variável pela posição\n",
        "    X_treino = treino.loc[:, X]\n",
        "    X_teste = teste.loc[:, X]\n",
        "\n",
        "    # Ajuste do modelo\n",
        "    modelo = LinearRegression()\n",
        "    modelo.fit(X_treino, Y_treino)\n",
        "\n",
        "    # Previsões\n",
        "    p = modelo.predict(X_teste)\n",
        "\n",
        "    # Métrica de erro\n",
        "    mse = mean_squared_error(teste.PIB, p)\n",
        "\n",
        "    # R² do modelo\n",
        "    r2 = modelo.score(X_teste, teste.PIB)\n",
        "\n",
        "    # R (correlação)\n",
        "    R = np.sqrt(r2) if r2 >= 0 else -np.sqrt(-r2)  # Garante que R fique coerente\n",
        "\n",
        "    # Armazena os resultados no dicionário\n",
        "    resultados[X[0]] = (mse, r2, R)\n",
        "\n",
        "# Exibir os resultados organizados\n",
        "print(\"\\nResultados de todas as variáveis testadas:\")\n",
        "print(f\"{'Variável':<10} {'MSE':<10} {'R²':<10} {'R':<10}\")\n",
        "print(\"=\" * 40)\n",
        "\n",
        "for variavel, (mse, r2, R) in resultados.items():\n",
        "    print(f\"{variavel:<10} {mse:<10.4f} {r2:<10.4f} {R:<10.4f}\")\n",
        "\n",
        "# Identificar a melhor variável (menor MSE)\n",
        "melhor_variavel = min(resultados, key=lambda k: resultados[k][0])\n",
        "melhor_mse, melhor_r2, melhor_R = resultados[melhor_variavel]\n",
        "\n",
        "print(\"\\nMelhor variável encontrada:\")\n",
        "print(f\"Variável: {melhor_variavel}\")\n",
        "print(f\"MSE: {melhor_mse:.4f}\")\n",
        "print(f\"R²: {melhor_r2:.4f}\")\n",
        "print(f\"R: {melhor_R:.4f}\")"
      ],
      "metadata": {
        "colab": {
          "base_uri": "https://localhost:8080/"
        },
        "id": "6iHMweZ5IH6l",
        "outputId": "459da587-000b-4c6d-a7b2-6b7c92c771c8"
      },
      "execution_count": 13,
      "outputs": [
        {
          "output_type": "stream",
          "name": "stdout",
          "text": [
            "\n",
            "Resultados de todas as variáveis testadas:\n",
            "Variável   MSE        R²         R         \n",
            "========================================\n",
            "PIBi1      13.9076    -0.1451    -0.3809   \n",
            "PIBi2      11.2472    0.0739     0.2719    \n",
            "PIBi3      16.4709    -0.3562    -0.5968   \n",
            "PIBi4      22.7694    -0.8748    -0.9353   \n",
            "PIBi5      18.8877    -0.5552    -0.7451   \n",
            "PIBi6      25.5165    -1.1010    -1.0493   \n",
            "PIBi7      25.7846    -1.1230    -1.0597   \n",
            "PIBi8      25.9337    -1.1353    -1.0655   \n",
            "PIBi9      28.8140    -1.3725    -1.1715   \n",
            "PIBi10     24.3253    -1.0029    -1.0014   \n",
            "PIBi11     28.4415    -1.3418    -1.1584   \n",
            "\n",
            "Melhor variável encontrada:\n",
            "Variável: PIBi2\n",
            "MSE: 11.2472\n",
            "R²: 0.0739\n",
            "R: 0.2719\n"
          ]
        }
      ]
    },
    {
      "cell_type": "markdown",
      "source": [
        "**Como interpretar o MSE?**\n",
        "\n",
        "✅ Quanto menor o MSE, melhor o modelo, pois significa que os valores previstos estão mais próximos dos valores reais.\n",
        "\n",
        "❌ Valores altos de MSE indicam previsões ruins, pois os erros ao prever os valores reais são grandes.\n",
        ""
      ],
      "metadata": {
        "id": "95CvWzctLwSh"
      }
    },
    {
      "cell_type": "markdown",
      "source": [
        "A variável **PIBi2** teve o **menor MSE (11.2472)**, então ela fez a **melhor previsão do PIB** comparada às outras defasagens testadas. Isso sugere que o PIB com 2 meses de lag tem a **melhor relação para prever o PIB atual**, pelo menos **dentro desse modelo simples**."
      ],
      "metadata": {
        "id": "BN4sqZdKMIUS"
      }
    },
    {
      "cell_type": "markdown",
      "source": [
        "**Conclusão**:\n",
        "\n",
        "A autoregressão mostrou-se uma abordagem válida para prever o PIB, e os resultados sugerem que o PIB de dois meses atrás (lag 2) é o melhor preditor individual do PIB atual.\n",
        "\n",
        "**Próximos Passos:**\n",
        "\n",
        "Como próximos passos, podemos testar modelos que consideram múltiplos valores passados do PIB simultaneamente.\n",
        "\n",
        "Esse estudo reforça a importância da análise temporal na previsão econômica e destaca como a dependência entre períodos pode ser explorada para melhorar a modelagem estatística."
      ],
      "metadata": {
        "id": "vDHEXZwKNr5f"
      }
    },
    {
      "cell_type": "markdown",
      "source": [
        "## PARES DE VARIÁVEIS PIB LAGs"
      ],
      "metadata": {
        "id": "dkOEfPLnTdPC"
      }
    },
    {
      "cell_type": "code",
      "source": [
        "resultados2 = {}\n",
        "\n",
        "# Regressão\n",
        "Y_treino = treino.iloc[:, [2]]  # PIB\n",
        "\n",
        "# Gerar todos os pares possíveis de variáveis de índice 26 a 36\n",
        "variaveis = df.columns[26:37]  # Seleciona as variáveis de índice 26 a 36\n",
        "\n",
        "# Gerar todos os pares possíveis\n",
        "pares_variaveis = itertools.combinations(variaveis, 2)\n",
        "\n",
        "# Loop para testar cada par de variáveis\n",
        "for par in pares_variaveis:\n",
        "    X = list(par)  # Converte o par em uma lista de variáveis\n",
        "    X_treino = treino.loc[:, X]\n",
        "    X_teste = teste.loc[:, X]\n",
        "\n",
        "    # Ajuste do modelo\n",
        "    modelo = LinearRegression()\n",
        "    modelo.fit(X_treino, Y_treino)\n",
        "\n",
        "    # Previsões\n",
        "    p = modelo.predict(X_teste)\n",
        "\n",
        "    # Métrica de erro\n",
        "    mse = mean_squared_error(teste.PIB, p)\n",
        "\n",
        "    # R² do modelo\n",
        "    r2 = modelo.score(X_teste, teste.PIB)\n",
        "\n",
        "    # R (correlação)\n",
        "    R = np.sqrt(r2) if r2 >= 0 else -np.sqrt(-r2)  # Garante que R fique coerente\n",
        "\n",
        "    # Armazena os resultados2 no dicionário\n",
        "    resultados2[str(par)] = (mse, r2, R)\n",
        "\n",
        "# Exibir os resultados2 organizados\n",
        "print(\"\\nresultados2 de todos os pares de variáveis testados:\")\n",
        "print(f\"{'Variável(s)':<20} {'MSE':<10} {'R²':<10} {'R':<10}\")\n",
        "print(\"=\" * 60)\n",
        "\n",
        "for variaveis, (mse, r2, R) in resultados2.items():\n",
        "    print(f\"{variaveis:<20} {mse:<10.4f} {r2:<10.4f} {R:<10.4f}\")\n",
        "\n",
        "# Identificar o melhor par de variáveis (menor MSE)\n",
        "melhor_par = min(resultados2, key=lambda k: resultados2[k][0])\n",
        "melhor_mse, melhor_r2, melhor_R = resultados2[melhor_par]\n",
        "\n",
        "print(\"\\nMelhor par de variáveis encontrado:\")\n",
        "print(f\"Variável(s): {melhor_par}\")\n",
        "print(f\"MSE: {melhor_mse:.4f}\")\n",
        "print(f\"R²: {melhor_r2:.4f}\")\n",
        "print(f\"R: {melhor_R:.4f}\")"
      ],
      "metadata": {
        "colab": {
          "base_uri": "https://localhost:8080/"
        },
        "id": "g9P83TC7IryN",
        "outputId": "8020b0f7-d203-4ccf-8f6c-1d74fa56e884"
      },
      "execution_count": 18,
      "outputs": [
        {
          "output_type": "stream",
          "name": "stdout",
          "text": [
            "\n",
            "resultados2 de todos os pares de variáveis testados:\n",
            "Variável(s)          MSE        R²         R         \n",
            "============================================================\n",
            "('PIBi1', 'PIBi2')   9.1339     0.2479     0.4979    \n",
            "('PIBi1', 'PIBi3')   12.7611    -0.0507    -0.2252   \n",
            "('PIBi1', 'PIBi4')   13.5610    -0.1166    -0.3414   \n",
            "('PIBi1', 'PIBi5')   11.7979    0.0286     0.1691    \n",
            "('PIBi1', 'PIBi6')   13.5399    -0.1148    -0.3389   \n",
            "('PIBi1', 'PIBi7')   12.7474    -0.0496    -0.2227   \n",
            "('PIBi1', 'PIBi8')   12.5054    -0.0297    -0.1722   \n",
            "('PIBi1', 'PIBi9')   13.5267    -0.1138    -0.3373   \n",
            "('PIBi1', 'PIBi10')  11.6754    0.0387     0.1967    \n",
            "('PIBi1', 'PIBi11')  12.8673    -0.0595    -0.2438   \n",
            "('PIBi2', 'PIBi3')   10.0048    0.1762     0.4198    \n",
            "('PIBi2', 'PIBi4')   11.1404    0.0827     0.2876    \n",
            "('PIBi2', 'PIBi5')   10.9078    0.1019     0.3192    \n",
            "('PIBi2', 'PIBi6')   11.1136    0.0849     0.2914    \n",
            "('PIBi2', 'PIBi7')   11.7879    0.0294     0.1715    \n",
            "('PIBi2', 'PIBi8')   11.8044    0.0281     0.1675    \n",
            "('PIBi2', 'PIBi9')   13.6012    -0.1199    -0.3463   \n",
            "('PIBi2', 'PIBi10')  12.6349    -0.0403    -0.2008   \n",
            "('PIBi2', 'PIBi11')  13.1465    -0.0825    -0.2871   \n",
            "('PIBi3', 'PIBi4')   16.0026    -0.3176    -0.5636   \n",
            "('PIBi3', 'PIBi5')   15.8952    -0.3088    -0.5557   \n",
            "('PIBi3', 'PIBi6')   16.4528    -0.3547    -0.5956   \n",
            "('PIBi3', 'PIBi7')   16.4193    -0.3519    -0.5932   \n",
            "('PIBi3', 'PIBi8')   17.3090    -0.4252    -0.6521   \n",
            "('PIBi3', 'PIBi9')   19.7713    -0.6279    -0.7924   \n",
            "('PIBi3', 'PIBi10')  18.4523    -0.5193    -0.7206   \n",
            "('PIBi3', 'PIBi11')  19.9921    -0.6461    -0.8038   \n",
            "('PIBi4', 'PIBi5')   19.2472    -0.5848    -0.7647   \n",
            "('PIBi4', 'PIBi6')   22.2275    -0.8302    -0.9111   \n",
            "('PIBi4', 'PIBi7')   21.7826    -0.7935    -0.8908   \n",
            "('PIBi4', 'PIBi8')   21.2209    -0.7473    -0.8645   \n",
            "('PIBi4', 'PIBi9')   24.0023    -0.9763    -0.9881   \n",
            "('PIBi4', 'PIBi10')  22.2475    -0.8318    -0.9120   \n",
            "('PIBi4', 'PIBi11')  24.5048    -1.0177    -1.0088   \n",
            "('PIBi5', 'PIBi6')   19.4632    -0.6026    -0.7762   \n",
            "('PIBi5', 'PIBi7')   20.9465    -0.7247    -0.8513   \n",
            "('PIBi5', 'PIBi8')   20.8189    -0.7142    -0.8451   \n",
            "('PIBi5', 'PIBi9')   23.9074    -0.9685    -0.9841   \n",
            "('PIBi5', 'PIBi10')  22.3824    -0.8429    -0.9181   \n",
            "('PIBi5', 'PIBi11')  25.1109    -1.0676    -1.0332   \n",
            "('PIBi6', 'PIBi7')   24.7432    -1.0373    -1.0185   \n",
            "('PIBi6', 'PIBi8')   25.4242    -1.0934    -1.0456   \n",
            "('PIBi6', 'PIBi9')   27.7408    -1.2841    -1.1332   \n",
            "('PIBi6', 'PIBi10')  24.7177    -1.0352    -1.0174   \n",
            "('PIBi6', 'PIBi11')  28.1210    -1.3154    -1.1469   \n",
            "('PIBi7', 'PIBi8')   24.8855    -1.0490    -1.0242   \n",
            "('PIBi7', 'PIBi9')   27.8686    -1.2946    -1.1378   \n",
            "('PIBi7', 'PIBi10')  24.5337    -1.0200    -1.0100   \n",
            "('PIBi7', 'PIBi11')  27.7928    -1.2884    -1.1351   \n",
            "('PIBi8', 'PIBi9')   27.8369    -1.2920    -1.1367   \n",
            "('PIBi8', 'PIBi10')  24.5243    -1.0193    -1.0096   \n",
            "('PIBi8', 'PIBi11')  28.1717    -1.3196    -1.1487   \n",
            "('PIBi9', 'PIBi10')  25.4683    -1.0970    -1.0474   \n",
            "('PIBi9', 'PIBi11')  29.0972    -1.3958    -1.1814   \n",
            "('PIBi10', 'PIBi11') 26.4999    -1.1819    -1.0872   \n",
            "\n",
            "Melhor par de variáveis encontrado:\n",
            "Variável(s): ('PIBi1', 'PIBi2')\n",
            "MSE: 9.1339\n",
            "R²: 0.2479\n",
            "R: 0.4979\n"
          ]
        }
      ]
    },
    {
      "cell_type": "markdown",
      "source": [
        "**Explicação dos Resultados Obtidos**:\n",
        "\n",
        "Após testar diversos pares de variáveis \"Lag\" (defasagens do PIB), encontramos que o melhor par de variáveis para explicar o PIB atual foi ('PIBi1', 'PIBi2')"
      ],
      "metadata": {
        "id": "czi0HTv4SowL"
      }
    },
    {
      "cell_type": "markdown",
      "source": [
        "Acreditamos que a combinação de lag PIBi1 e PIBi2 ajuda a capturar uma visão mais completa do comportamento do PIB.\n",
        "\n",
        "*  O PIBi1 reflete reações imediatas\n",
        "*  O PIBi2 captura um comportamento mais suavizado\n",
        "\n",
        "\n",
        "Portanto, dando ao modelo uma visão mais equilibrada das forças econômicas que impactam o PIB"
      ],
      "metadata": {
        "id": "YMYrQGEWS34B"
      }
    }
  ]
}
